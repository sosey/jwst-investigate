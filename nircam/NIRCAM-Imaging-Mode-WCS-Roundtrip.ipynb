{
 "cells": [
  {
   "cell_type": "markdown",
   "metadata": {},
   "source": [
    "# Walkthrough the NIRCAM imaging WCS pipeline rountrip of values through the coordinate frame transforms"
   ]
  },
  {
   "cell_type": "code",
   "execution_count": 1,
   "metadata": {},
   "outputs": [
    {
     "data": {
      "text/plain": [
       "'0.9.3a.dev150'"
      ]
     },
     "execution_count": 1,
     "metadata": {},
     "output_type": "execute_result"
    }
   ],
   "source": [
    "import jwst\n",
    "jwst.__version__"
   ]
  },
  {
   "cell_type": "code",
   "execution_count": 2,
   "metadata": {
    "collapsed": true
   },
   "outputs": [],
   "source": [
    "from astropy.io import fits\n",
    "from jwst import assign_wcs\n",
    "from jwst.datamodels import image"
   ]
  },
  {
   "cell_type": "code",
   "execution_count": 3,
   "metadata": {
    "collapsed": true
   },
   "outputs": [],
   "source": [
    "# add in the columns for ra and dec min/max points, translated from the wcs object for now\n",
    "direct_data='test_disperse_f335m_rate_updated.fits'   # original image provided for testing\n",
    "\n",
    "# We will open the direct image as an Image datamodel\n",
    "direct_image = image.ImageModel(direct_data)"
   ]
  },
  {
   "cell_type": "markdown",
   "metadata": {},
   "source": [
    "### Some basics about this image"
   ]
  },
  {
   "cell_type": "code",
   "execution_count": 4,
   "metadata": {},
   "outputs": [
    {
     "data": {
      "text/plain": [
       "('CLEAR', 'F335M', 'A', 'NRCA1', 'SHORT')"
      ]
     },
     "execution_count": 4,
     "metadata": {},
     "output_type": "execute_result"
    }
   ],
   "source": [
    "direct_image.meta.instrument.pupil, direct_image.meta.instrument.filter, direct_image.meta.instrument.module, direct_image.meta.instrument.detector, direct_image.meta.instrument.channel"
   ]
  },
  {
   "cell_type": "markdown",
   "metadata": {},
   "source": [
    "### This is the FITS WCS information"
   ]
  },
  {
   "cell_type": "code",
   "execution_count": 5,
   "metadata": {},
   "outputs": [
    {
     "name": "stderr",
     "output_type": "stream",
     "text": [
      "2018-04-26 17:39:15,170 - stpipe - WARNING - /Users/sosey/miniconda3/envs/jwstdev/lib/python3.5/site-packages/astropy/io/fits/card.py:979: VerifyWarning: Card is too long, comment will be truncated.\n",
      "  VerifyWarning)\n",
      "\n"
     ]
    },
    {
     "data": {
      "text/plain": [
       "WCS Keywords\n",
       "\n",
       "Number of WCS axes: 2\n",
       "CTYPE : 'RA---TAN'  'DEC--TAN'  \n",
       "CRVAL : 0.0  0.0  \n",
       "CRPIX : 1024.5  1024.5  \n",
       "PC1_1 PC1_2  : 1.0  -0.0  \n",
       "PC2_1 PC2_2  : 0.0  1.0  \n",
       "CDELT : -8.6513888888887995e-06  8.7037499999999808e-06  \n",
       "NAXIS : 2048  2048"
      ]
     },
     "execution_count": 5,
     "metadata": {},
     "output_type": "execute_result"
    }
   ],
   "source": [
    "direct_image.get_fits_wcs()"
   ]
  },
  {
   "cell_type": "code",
   "execution_count": 6,
   "metadata": {},
   "outputs": [
    {
     "name": "stderr",
     "output_type": "stream",
     "text": [
      "2018-04-26 17:39:15,192 - stpipe.AssignWcsStep - INFO - AssignWcsStep instance created.\n"
     ]
    },
    {
     "data": {
      "text/plain": [
       "{'camera': 'N/A',\n",
       " 'collimator': 'N/A',\n",
       " 'disperser': 'N/A',\n",
       " 'distortion': '/Users/sosey/crds_cache/references/jwst/nircam/jwst_nircam_distortion_0061.asdf',\n",
       " 'filteroffset': 'N/A',\n",
       " 'fore': 'N/A',\n",
       " 'fpa': 'N/A',\n",
       " 'ifufore': 'N/A',\n",
       " 'ifupost': 'N/A',\n",
       " 'ifuslicer': 'N/A',\n",
       " 'msa': 'N/A',\n",
       " 'ote': 'N/A',\n",
       " 'regions': 'N/A',\n",
       " 'specwcs': 'N/A',\n",
       " 'wavelengthrange': 'N/A'}"
      ]
     },
     "execution_count": 6,
     "metadata": {},
     "output_type": "execute_result"
    }
   ],
   "source": [
    "# Load up the assign_wcs step that will assign all the transforms from world->detector\n",
    "assign_wcs_step=assign_wcs.AssignWcsStep()\n",
    "reference_file_types = ['distortion', 'filteroffset', 'specwcs', 'regions',\n",
    "                            'wavelengthrange', 'camera', 'collimator',\n",
    "                            'disperser', 'fore', 'fpa', 'msa', 'ote', 'ifupost',\n",
    "                            'ifufore', 'ifuslicer']\n",
    "reference_file_names = {}\n",
    "\n",
    "# Ask CRDS for the reference files that apply to the image are working with\n",
    "for name in reference_file_types:\n",
    "    reffile = assign_wcs_step.get_reference_file(direct_image, name)\n",
    "    reference_file_names[name] = reffile if reffile else \"\"\n",
    "reference_file_names"
   ]
  },
  {
   "cell_type": "code",
   "execution_count": 7,
   "metadata": {},
   "outputs": [
    {
     "name": "stderr",
     "output_type": "stream",
     "text": [
      "2018-04-26 17:39:15,552 - stpipe.AssignWcsStep - INFO - Step AssignWcsStep running with args (<ImageModel(2048, 2048) from test_disperse_f335m_rate_updated.fits>,).\n",
      "2018-04-26 17:39:15,958 - stpipe.AssignWcsStep - INFO - assign_wcs updated S_REGION to POLYGON ICRS  0.009022622237533287 -0.008853991096776785 0.008719091565190015 0.008959908112853443 359.9911115957577 0.008837456490423869 359.9911689262167 -0.00902295821400355\n",
      "2018-04-26 17:39:15,959 - stpipe.AssignWcsStep - INFO - COMPLETED assign_wcs\n",
      "2018-04-26 17:39:15,968 - stpipe.AssignWcsStep - INFO - Step AssignWcsStep done\n"
     ]
    }
   ],
   "source": [
    "direct_gwcs = assign_wcs_step(direct_image)"
   ]
  },
  {
   "cell_type": "markdown",
   "metadata": {},
   "source": [
    "### Some information about where the transforms are centered"
   ]
  },
  {
   "cell_type": "code",
   "execution_count": 8,
   "metadata": {},
   "outputs": [
    {
     "data": {
      "text/plain": [
       "(1024.5, 1024.5, 0.0, 0.0)"
      ]
     },
     "execution_count": 8,
     "metadata": {},
     "output_type": "execute_result"
    }
   ],
   "source": [
    "direct_gwcs.meta.wcsinfo.crpix1, direct_gwcs.meta.wcsinfo.crpix2, direct_gwcs.meta.wcsinfo.crval1, direct_gwcs.meta.wcsinfo.crval2"
   ]
  },
  {
   "cell_type": "markdown",
   "metadata": {},
   "source": [
    "### The GWCS object that contains all the transforms is now attached to the image model"
   ]
  },
  {
   "cell_type": "code",
   "execution_count": 9,
   "metadata": {},
   "outputs": [
    {
     "data": {
      "text/plain": [
       "<WCS(output_frame=world, input_frame=detector, forward_transform=Model: CompoundModel32\n",
       "Inputs: ('x0', 'x1')\n",
       "Outputs: ('ra', 'dec')\n",
       "Model set size: 1\n",
       "Expression: [0] & [1] | [2] & [3] | [4] & [5] | [6] | [7] & [8] | [9] | [10] & [11] | [12] & [13] | [14] & [15] | [16]\n",
       "Components: \n",
       "    [0]: <Shift(offset=0.0)>\n",
       "\n",
       "    [1]: <Shift(offset=0.0)>\n",
       "\n",
       "    [2]: <Shift(offset=1.0)>\n",
       "\n",
       "    [3]: <Shift(offset=1.0)>\n",
       "\n",
       "    [4]: <Shift(offset=-1024.5)>\n",
       "\n",
       "    [5]: <Shift(offset=-1024.5)>\n",
       "\n",
       "    [6]: <Mapping((0, 1, 0, 1))>\n",
       "\n",
       "    [7]: <Polynomial2D(5, c0_0=0.0, c1_0=0.0311450008635555, c2_0=3.19296208459262e-09, c3_0=9.98432535200838e-12, c4_0=-7.28857480936452e-16, c5_0=1.40202194553559e-19, c0_1=0.0, c0_2=-3.45450638568662e-08, c0_3=1.02268511298447e-12, c0_4=-1.69080853030222e-16, c0_5=-1.75088955160252e-22, c1_1=-2.09853457005898e-07, c1_2=1.16114076529925e-11, c1_3=-8.89534428350929e-16, c1_4=1.43514539277306e-19, c2_1=2.0731242800737e-12, c2_2=-9.36343030540597e-16, c2_3=9.2053949327475e-21, c3_1=-9.01713240437756e-16, c3_2=2.8711996267771e-19, c4_1=1.07761768789339e-20)>\n",
       "\n",
       "    [8]: <Polynomial2D(5, c0_0=0.0, c1_0=5.35493308872249e-05, c2_0=6.52433047801527e-08, c3_0=6.20122676803537e-13, c4_0=-1.4183810018211e-16, c5_0=4.18516171131664e-21, c0_1=0.0313334807934876, c0_2=-1.46389884422357e-07, c0_3=1.13863410529852e-11, c0_4=-9.32668662169215e-16, c0_5=1.34126630032548e-19, c1_1=3.91324729748527e-08, c1_2=1.63278571962504e-12, c1_3=-6.24974889827723e-16, c1_4=1.22757544565283e-20, c2_1=9.58663233977936e-12, c2_2=-1.15162233983977e-15, c2_3=2.92096255894834e-19, c3_1=-6.51221674019868e-16, c3_2=1.75359184898394e-20, c4_1=1.55934573796474e-19)>\n",
       "\n",
       "    [9]: <Mapping((0, 1, 0, 1))>\n",
       "\n",
       "    [10]: <Polynomial2D(1, c0_0=0.0, c1_0=-0.9999498458025038, c0_1=-0.010015282300013879)>\n",
       "\n",
       "    [11]: <Polynomial2D(1, c0_0=0.0, c1_0=-0.010015282300013879, c0_1=0.9999498458025038)>\n",
       "\n",
       "    [12]: <Shift(offset=120.671376)>\n",
       "\n",
       "    [13]: <Shift(offset=-527.387665)>\n",
       "\n",
       "    [14]: <Scale(factor=0.0002777777777777778)>\n",
       "\n",
       "    [15]: <Scale(factor=0.0002777777777777778)>\n",
       "\n",
       "    [16]: <V23ToSky(angles=[-0.03351983,-0.14649657,-0.        ,-0.        , 0.        ], name='v23tosky')>\n",
       "Parameters:\n",
       "    offset_0 offset_1 offset_2 ...     factor_15          angles_16 [5]     \n",
       "    -------- -------- -------- ... ----------------- -----------------------\n",
       "         0.0      0.0      1.0 ... 0.000277777777778 -0.0335198266667 .. 0.0)>"
      ]
     },
     "execution_count": 9,
     "metadata": {},
     "output_type": "execute_result"
    }
   ],
   "source": [
    "direct_gwcs.meta.wcs"
   ]
  },
  {
   "cell_type": "markdown",
   "metadata": {},
   "source": [
    "### Check the transform from detector pixels to sky coordinates in decimal degrees of RA and DEC"
   ]
  },
  {
   "cell_type": "markdown",
   "metadata": {},
   "source": [
    "The default transform goes from detector pixels to sky coordinate (ra,dec)"
   ]
  },
  {
   "cell_type": "code",
   "execution_count": 10,
   "metadata": {},
   "outputs": [
    {
     "data": {
      "text/plain": [
       "(0.00804448203007923, -0.007899731808577077)"
      ]
     },
     "execution_count": 10,
     "metadata": {},
     "output_type": "execute_result"
    }
   ],
   "source": [
    "direct_gwcs.meta.wcs(110,110)"
   ]
  },
  {
   "cell_type": "code",
   "execution_count": 11,
   "metadata": {},
   "outputs": [
    {
     "data": {
      "text/plain": [
       "(0.00804448203007923, -0.007899731808577077)"
      ]
     },
     "execution_count": 11,
     "metadata": {},
     "output_type": "execute_result"
    }
   ],
   "source": [
    "detector_to_world = direct_gwcs.meta.wcs.get_transform('detector','world')\n",
    "detector_to_world(110,110)"
   ]
  },
  {
   "cell_type": "markdown",
   "metadata": {},
   "source": [
    "### Now get the inverse transform from RA,DEC  to detector pixels, using the RA,DEC we just calculated\n",
    "This should return the pixel (110,110)"
   ]
  },
  {
   "cell_type": "code",
   "execution_count": 12,
   "metadata": {},
   "outputs": [
    {
     "data": {
      "text/plain": [
       "(127.67113370114112, 104.93657235389901)"
      ]
     },
     "execution_count": 12,
     "metadata": {},
     "output_type": "execute_result"
    }
   ],
   "source": [
    "world_to_detector = direct_gwcs.meta.wcs.get_transform('world','detector')\n",
    "world_to_detector(0.00804448203007923, -0.007899731808577077)"
   ]
  },
  {
   "cell_type": "markdown",
   "metadata": {},
   "source": [
    "### Let's check the other transforms to make sure it's just the distortion reference file that is off"
   ]
  },
  {
   "cell_type": "code",
   "execution_count": 13,
   "metadata": {
    "scrolled": true
   },
   "outputs": [
    {
     "data": {
      "text/plain": [
       "['detector', 'v2v3', 'world']"
      ]
     },
     "execution_count": 13,
     "metadata": {},
     "output_type": "execute_result"
    }
   ],
   "source": [
    "direct_gwcs.meta.wcs.available_frames"
   ]
  },
  {
   "cell_type": "code",
   "execution_count": 14,
   "metadata": {},
   "outputs": [
    {
     "data": {
      "text/plain": [
       "(149.63161618088085, -555.8266943126895)"
      ]
     },
     "execution_count": 14,
     "metadata": {},
     "output_type": "execute_result"
    }
   ],
   "source": [
    "world_to_v2v3 = direct_gwcs.meta.wcs.get_transform('world','v2v3')\n",
    "world_to_v2v3(0.00804448203007923, -0.007899731808577077)  # degrees"
   ]
  },
  {
   "cell_type": "code",
   "execution_count": 15,
   "metadata": {},
   "outputs": [
    {
     "data": {
      "text/plain": [
       "(0.00804448203007923, -0.007899731808577051)"
      ]
     },
     "execution_count": 15,
     "metadata": {},
     "output_type": "execute_result"
    }
   ],
   "source": [
    "v2v3_to_world = direct_gwcs.meta.wcs.get_transform('v2v3','world')\n",
    "v2v3_to_world(149.63161618088085, -555.8266943126895)  # arcseconds"
   ]
  },
  {
   "cell_type": "markdown",
   "metadata": {},
   "source": [
    "### The following transforms only goes through the distortion reference file, it can't seem to return the original detector coordinates"
   ]
  },
  {
   "cell_type": "code",
   "execution_count": 16,
   "metadata": {},
   "outputs": [
    {
     "data": {
      "text/plain": [
       "(149.63161618088085, -555.8266943126896)"
      ]
     },
     "execution_count": 16,
     "metadata": {},
     "output_type": "execute_result"
    }
   ],
   "source": [
    "detector_to_v2v3 = direct_gwcs.meta.wcs.get_transform('detector','v2v3')\n",
    "detector_to_v2v3(110, 110)"
   ]
  },
  {
   "cell_type": "code",
   "execution_count": 17,
   "metadata": {},
   "outputs": [
    {
     "data": {
      "text/plain": [
       "(127.67113370114123, 104.93657235389549)"
      ]
     },
     "execution_count": 17,
     "metadata": {},
     "output_type": "execute_result"
    }
   ],
   "source": [
    "v2v3_to_detector = direct_gwcs.meta.wcs.get_transform('v2v3','detector')\n",
    "v2v3_to_detector(149.63161618088085, -555.8266943126896)"
   ]
  },
  {
   "cell_type": "markdown",
   "metadata": {},
   "source": [
    "### The transform across the distortion image is not able to reproduce values roundtripping\n",
    "Let's check if we can reproduce the anchor point of the distortion, the value at CRPIX1, CRPIX2"
   ]
  },
  {
   "cell_type": "code",
   "execution_count": 18,
   "metadata": {
    "collapsed": true
   },
   "outputs": [],
   "source": [
    "crpix1, crpix2, crval1, crval2=direct_gwcs.meta.wcsinfo.crpix1, direct_gwcs.meta.wcsinfo.crpix2, direct_gwcs.meta.wcsinfo.crval1, direct_gwcs.meta.wcsinfo.crval2"
   ]
  },
  {
   "cell_type": "markdown",
   "metadata": {},
   "source": [
    "#### Check the roundtrip of crpix1,crpix2 from detector <-> v2v3\n",
    "This also uses the distortion reference file"
   ]
  },
  {
   "cell_type": "code",
   "execution_count": 19,
   "metadata": {},
   "outputs": [
    {
     "data": {
      "text/plain": [
       "(1024.5, 1024.5)"
      ]
     },
     "execution_count": 19,
     "metadata": {},
     "output_type": "execute_result"
    }
   ],
   "source": [
    "crpix1, crpix2"
   ]
  },
  {
   "cell_type": "code",
   "execution_count": 20,
   "metadata": {},
   "outputs": [
    {
     "data": {
      "text/plain": [
       "(120.63991845281103, -527.3565915096161)"
      ]
     },
     "execution_count": 20,
     "metadata": {},
     "output_type": "execute_result"
    }
   ],
   "source": [
    "detector_to_v2v3(crpix1, crpix2)"
   ]
  },
  {
   "cell_type": "code",
   "execution_count": 21,
   "metadata": {},
   "outputs": [
    {
     "data": {
      "text/plain": [
       "(1024.4850625784802, 1024.507951992044)"
      ]
     },
     "execution_count": 21,
     "metadata": {},
     "output_type": "execute_result"
    }
   ],
   "source": [
    "v2v3_to_detector(120.63991845281103, -527.3565915096161)"
   ]
  },
  {
   "cell_type": "markdown",
   "metadata": {},
   "source": [
    "#### Check the roundtrip of crval1,crval2 from world <-> v2v3"
   ]
  },
  {
   "cell_type": "code",
   "execution_count": 22,
   "metadata": {},
   "outputs": [
    {
     "data": {
      "text/plain": [
       "(0.0, 0.0)"
      ]
     },
     "execution_count": 22,
     "metadata": {},
     "output_type": "execute_result"
    }
   ],
   "source": [
    "crval1, crval2"
   ]
  },
  {
   "cell_type": "code",
   "execution_count": 23,
   "metadata": {},
   "outputs": [
    {
     "data": {
      "text/plain": [
       "(120.67137599999998, -527.387665)"
      ]
     },
     "execution_count": 23,
     "metadata": {},
     "output_type": "execute_result"
    }
   ],
   "source": [
    "world_to_v2v3(crval1, crval2)"
   ]
  },
  {
   "cell_type": "code",
   "execution_count": 24,
   "metadata": {
    "scrolled": true
   },
   "outputs": [
    {
     "data": {
      "text/plain": [
       "(0.0, 0.0)"
      ]
     },
     "execution_count": 24,
     "metadata": {},
     "output_type": "execute_result"
    }
   ],
   "source": [
    "v2v3_to_world(120.67137599999998, -527.387665)"
   ]
  },
  {
   "cell_type": "markdown",
   "metadata": {},
   "source": [
    "## The above examples convince me that the distortion reference image, specifically `jwst_nircam_distortion_0061.asdf` has 2D variations that make it impossible to compute the correct detector pixel coordinates given a position on the sky.\n",
    "\n",
    "### It's possible that the *incorrect* distortion reference image is being returned from CRDS for the image, let's have a look at the RMAP that is being used"
   ]
  },
  {
   "cell_type": "markdown",
   "metadata": {},
   "source": [
    "## This is the current rmap in use\n",
    "https://jwst-crds.stsci.edu/browse/jwst_nircam_distortion_0018.rmap\n",
    "\n",
    "It's checking these values:\n",
    "    \n",
    "    'parkey' : (('META.EXPOSURE.TYPE', 'META.INSTRUMENT.DETECTOR', 'META.INSTRUMENT.CHANNEL', 'META.INSTRUMENT.PUPIL', 'META.INSTRUMENT.FILTER'),\n",
    "    ('META.OBSERVATION.DATE', 'META.OBSERVATION.TIME')),\n",
    "        'reference_to_dataset' : {\n",
    "            'CHANNEL' : 'META.INSTRUMENT.CHANNEL',\n",
    "            'DETECTOR' : 'META.INSTRUMENT.DETECTOR',\n",
    "            'EXP_TYPE' : 'META.EXPOSURE.TYPE',"
   ]
  },
  {
   "cell_type": "code",
   "execution_count": 25,
   "metadata": {},
   "outputs": [
    {
     "data": {
      "text/plain": [
       "('NRC_IMAGE', 'NRCA1', 'SHORT', 'CLEAR', 'F335M')"
      ]
     },
     "execution_count": 25,
     "metadata": {},
     "output_type": "execute_result"
    }
   ],
   "source": [
    "direct_image.meta.exposure.type, direct_image.meta.instrument.detector, direct_image.meta.instrument.channel, direct_image.meta.instrument.pupil, direct_image.meta.instrument.filter"
   ]
  },
  {
   "cell_type": "markdown",
   "metadata": {},
   "source": [
    "### For the values specified above, the RMAP shows matching as:\n",
    "\n",
    "    ('NRC_IMAGE|NRC_TSIMAGE|NRC_FLAT|NRC_LED|NRC_WFSC|NRC_GRISM|NRC_TSGRISM|NRC_FOCUS',\n",
    "     'NRCA1',\n",
    "     'SHORT',\n",
    "     'CLEAR|F162M|F164N|GDHS0|GDHS60|WLM8|WLP8|PINHOLES|MASKIPR',\n",
    "     'N/A') : UseAfter({'2014-10-01 00:00:00' : 'jwst_nircam_distortion_0061.asdf',\n",
    "    }),\n",
    "    \n",
    "So the reference file matches regardness of FILTER (which has N/A) that is specified, it only cares about pupil and the detector specification"
   ]
  },
  {
   "cell_type": "markdown",
   "metadata": {},
   "source": [
    "## Let's try the same thing with a different image, this one is taken from the latest NIRCAM simulations\n",
    "It has a differently populated FITS WCS information, and specifies a different filter and detector"
   ]
  },
  {
   "cell_type": "code",
   "execution_count": 26,
   "metadata": {
    "collapsed": true
   },
   "outputs": [],
   "source": [
    "direct_data='V54321001002P000000000110d_A5_F444W_rate.fits'   # most recent simulation for testing\n",
    "\n",
    "# We will open the direct image as a DrizProduct datamodel\n",
    "direct_image = image.ImageModel(direct_data)"
   ]
  },
  {
   "cell_type": "code",
   "execution_count": 27,
   "metadata": {},
   "outputs": [
    {
     "data": {
      "text/plain": [
       "('CLEAR', 'F444W', 'A', 'NRCALONG', 'LONG')"
      ]
     },
     "execution_count": 27,
     "metadata": {},
     "output_type": "execute_result"
    }
   ],
   "source": [
    "direct_image.meta.instrument.pupil, direct_image.meta.instrument.filter,direct_image.meta.instrument.module, direct_image.meta.instrument.detector, direct_image.meta.instrument.channel"
   ]
  },
  {
   "cell_type": "code",
   "execution_count": 28,
   "metadata": {},
   "outputs": [
    {
     "data": {
      "text/plain": [
       "{'camera': 'N/A',\n",
       " 'collimator': 'N/A',\n",
       " 'disperser': 'N/A',\n",
       " 'distortion': '/Users/sosey/crds_cache/references/jwst/nircam/jwst_nircam_distortion_0059.asdf',\n",
       " 'filteroffset': 'N/A',\n",
       " 'fore': 'N/A',\n",
       " 'fpa': 'N/A',\n",
       " 'ifufore': 'N/A',\n",
       " 'ifupost': 'N/A',\n",
       " 'ifuslicer': 'N/A',\n",
       " 'msa': 'N/A',\n",
       " 'ote': 'N/A',\n",
       " 'regions': 'N/A',\n",
       " 'specwcs': 'N/A',\n",
       " 'wavelengthrange': 'N/A'}"
      ]
     },
     "execution_count": 28,
     "metadata": {},
     "output_type": "execute_result"
    }
   ],
   "source": [
    "reference_file_names = {}\n",
    "\n",
    "# Ask CRDS for the reference files that apply to the image are working with\n",
    "for name in reference_file_types:\n",
    "    reffile = assign_wcs_step.get_reference_file(direct_image, name)\n",
    "    reference_file_names[name] = reffile if reffile else \"\"\n",
    "reference_file_names"
   ]
  },
  {
   "cell_type": "code",
   "execution_count": 29,
   "metadata": {},
   "outputs": [
    {
     "name": "stderr",
     "output_type": "stream",
     "text": [
      "2018-04-26 17:39:23,760 - stpipe - WARNING - /Users/sosey/miniconda3/envs/jwstdev/lib/python3.5/site-packages/astropy/io/fits/card.py:979: VerifyWarning: Card is too long, comment will be truncated.\n",
      "  VerifyWarning)\n",
      "\n"
     ]
    },
    {
     "data": {
      "text/plain": [
       "WCS Keywords\n",
       "\n",
       "Number of WCS axes: 2\n",
       "CTYPE : 'RA---TAN'  'DEC--TAN'  \n",
       "CRVAL : 53.1490299775  -27.816874562399999  \n",
       "CRPIX : 1024.5  1024.5  \n",
       "PC1_1 PC1_2  : -0.70768855718334833  0.70652452613603633  \n",
       "PC2_1 PC2_2  : 0.70652452613603633  0.70768855718334833  \n",
       "CDELT : 1.7446002777777701e-05  1.7530686111111098e-05  \n",
       "NAXIS : 2048  2048"
      ]
     },
     "execution_count": 29,
     "metadata": {},
     "output_type": "execute_result"
    }
   ],
   "source": [
    "direct_image.get_fits_wcs()"
   ]
  },
  {
   "cell_type": "code",
   "execution_count": 30,
   "metadata": {},
   "outputs": [
    {
     "name": "stderr",
     "output_type": "stream",
     "text": [
      "2018-04-26 17:39:23,998 - stpipe.AssignWcsStep - INFO - Step AssignWcsStep running with args (<ImageModel(2048, 2048) from V54321001002P000000000110d_A5_F444W_rate.fits>,).\n",
      "2018-04-26 17:39:24,358 - stpipe.AssignWcsStep - INFO - assign_wcs updated S_REGION to POLYGON ICRS  53.14918395976533 -27.84239002279679 53.17751007567551 -27.816685398839844 53.14925269475395 -27.791587338019358 53.120015753464514 -27.816868426589295\n",
      "2018-04-26 17:39:24,358 - stpipe.AssignWcsStep - INFO - COMPLETED assign_wcs\n",
      "2018-04-26 17:39:24,366 - stpipe.AssignWcsStep - INFO - Step AssignWcsStep done\n"
     ]
    }
   ],
   "source": [
    "direct_gwcs = assign_wcs_step(direct_image)"
   ]
  },
  {
   "cell_type": "code",
   "execution_count": 31,
   "metadata": {},
   "outputs": [
    {
     "data": {
      "text/plain": [
       "<WCS(output_frame=world, input_frame=detector, forward_transform=Model: CompoundModel81\n",
       "Inputs: ('x0', 'x1')\n",
       "Outputs: ('ra', 'dec')\n",
       "Model set size: 1\n",
       "Expression: [0] & [1] | [2] & [3] | [4] & [5] | [6] | [7] & [8] | [9] | [10] & [11] | [12] & [13] | [14] & [15] | [16]\n",
       "Components: \n",
       "    [0]: <Shift(offset=0.0)>\n",
       "\n",
       "    [1]: <Shift(offset=0.0)>\n",
       "\n",
       "    [2]: <Shift(offset=1.0)>\n",
       "\n",
       "    [3]: <Shift(offset=1.0)>\n",
       "\n",
       "    [4]: <Shift(offset=-1024.5)>\n",
       "\n",
       "    [5]: <Shift(offset=-1024.5)>\n",
       "\n",
       "    [6]: <Mapping((0, 1, 0, 1))>\n",
       "\n",
       "    [7]: <Polynomial2D(5, c0_0=0.0, c1_0=0.0628055964124382, c2_0=1.24905921114466e-07, c3_0=9.14314286774186e-11, c4_0=1.01023557343774e-15, c5_0=4.67657435211353e-18, c0_1=-1.35525271560688e-20, c0_2=-9.5458746400565e-08, c0_3=-3.07695594337418e-13, c0_4=-3.03038062921931e-16, c0_5=5.58200645765799e-20, c1_1=-7.34276053896926e-07, c1_2=9.75593531379924e-11, c1_3=-4.10267512170787e-15, c1_4=4.63213232905571e-18, c2_1=-6.06098416616055e-12, c2_2=5.77574857849944e-16, c2_3=5.71745970850309e-19, c3_1=-3.9201857288813e-15, c3_2=9.40818749643153e-18, c4_1=5.3460233327372e-19)>\n",
       "\n",
       "    [8]: <Polynomial2D(5, c0_0=0.0, c1_0=-4.79974727924763e-05, c2_0=3.04301177618222e-07, c3_0=-6.94090322314513e-13, c4_0=1.15457678926333e-15, c5_0=1.09004998065867e-19, c0_1=0.0631104678624647, c0_2=-4.38591096487217e-07, c0_3=9.87390158250066e-11, c0_4=-3.03840840024802e-15, c0_5=4.29682162851383e-18, c1_1=2.31947999932155e-07, c1_2=-6.66028253180985e-12, c1_3=1.26497858082834e-15, c1_4=5.39537190791776e-19, c2_1=8.82799883673852e-11, c2_2=-1.92936041706346e-15, c2_3=9.54104028404976e-18, c3_1=1.40231968180942e-15, c3_2=6.60169033830902e-19, c4_1=5.1843241243933e-18)>\n",
       "\n",
       "    [9]: <Mapping((0, 1, 0, 1))>\n",
       "\n",
       "    [10]: <Polynomial2D(1, c0_0=0.0, c1_0=-0.9999987798603492, c0_1=-0.0015621388583621743)>\n",
       "\n",
       "    [11]: <Polynomial2D(1, c0_0=0.0, c1_0=-0.0015621388583621743, c0_1=0.9999987798603492)>\n",
       "\n",
       "    [12]: <Shift(offset=86.103458)>\n",
       "\n",
       "    [13]: <Shift(offset=-493.227512)>\n",
       "\n",
       "    [14]: <Scale(factor=0.0002777777777777778)>\n",
       "\n",
       "    [15]: <Scale(factor=0.0002777777777777778)>\n",
       "\n",
       "    [16]: <V23ToSky(angles=[ -0.02391763, -0.13700764,-45.04234417, 27.81687456, 53.14902998], name='v23tosky')>\n",
       "Parameters:\n",
       "    offset_0 offset_1 ...     factor_15               angles_16 [5]          \n",
       "    -------- -------- ... ----------------- ---------------------------------\n",
       "         0.0      0.0 ... 0.000277777777778 -0.0239176272222 .. 53.1490299775)>"
      ]
     },
     "execution_count": 31,
     "metadata": {},
     "output_type": "execute_result"
    }
   ],
   "source": [
    "direct_gwcs.meta.wcs"
   ]
  },
  {
   "cell_type": "markdown",
   "metadata": {},
   "source": [
    "### Check the transform from detector pixels to sky coordinates in decimal degrees of RA and DEC"
   ]
  },
  {
   "cell_type": "markdown",
   "metadata": {},
   "source": [
    "The default transform goes from detector pixels to sky coordinate (ra,dec)"
   ]
  },
  {
   "cell_type": "code",
   "execution_count": 32,
   "metadata": {},
   "outputs": [
    {
     "data": {
      "text/plain": [
       "(53.149149027123194, -27.839618613331695)"
      ]
     },
     "execution_count": 32,
     "metadata": {},
     "output_type": "execute_result"
    }
   ],
   "source": [
    "direct_gwcs.meta.wcs(110,110)"
   ]
  },
  {
   "cell_type": "code",
   "execution_count": 33,
   "metadata": {},
   "outputs": [
    {
     "data": {
      "text/plain": [
       "(53.149149027123194, -27.839618613331695)"
      ]
     },
     "execution_count": 33,
     "metadata": {},
     "output_type": "execute_result"
    }
   ],
   "source": [
    "detector_to_world = direct_gwcs.meta.wcs.get_transform('detector','world')\n",
    "detector_to_world(110,110)"
   ]
  },
  {
   "cell_type": "markdown",
   "metadata": {},
   "source": [
    "### Now get the inverse transform from RA,DEC  to detector pixels, using the RA,DEC we just calculated\n",
    "This should return the pixel (110,110)"
   ]
  },
  {
   "cell_type": "code",
   "execution_count": 34,
   "metadata": {},
   "outputs": [
    {
     "data": {
      "text/plain": [
       "(115.04030042777447, 110.4250127829049)"
      ]
     },
     "execution_count": 34,
     "metadata": {},
     "output_type": "execute_result"
    }
   ],
   "source": [
    "world_to_detector = direct_gwcs.meta.wcs.get_transform('world','detector')\n",
    "world_to_detector(53.149149027123194, -27.839618613331695)"
   ]
  },
  {
   "cell_type": "markdown",
   "metadata": {},
   "source": [
    "### Let's check the other transforms to make sure it's just the distortion reference file that is off"
   ]
  },
  {
   "cell_type": "code",
   "execution_count": 35,
   "metadata": {
    "scrolled": true
   },
   "outputs": [
    {
     "data": {
      "text/plain": [
       "['detector', 'v2v3', 'world']"
      ]
     },
     "execution_count": 35,
     "metadata": {},
     "output_type": "execute_result"
    }
   ],
   "source": [
    "direct_gwcs.meta.wcs.available_frames"
   ]
  },
  {
   "cell_type": "code",
   "execution_count": 36,
   "metadata": {},
   "outputs": [
    {
     "data": {
      "text/plain": [
       "(144.31111617155733, -550.8134158050235)"
      ]
     },
     "execution_count": 36,
     "metadata": {},
     "output_type": "execute_result"
    }
   ],
   "source": [
    "world_to_v2v3 = direct_gwcs.meta.wcs.get_transform('world','v2v3')\n",
    "world_to_v2v3(53.149149027123194, -27.839618613331695)  # degrees"
   ]
  },
  {
   "cell_type": "code",
   "execution_count": 37,
   "metadata": {},
   "outputs": [
    {
     "data": {
      "text/plain": [
       "(53.149149027123194, -27.83961861333171)"
      ]
     },
     "execution_count": 37,
     "metadata": {},
     "output_type": "execute_result"
    }
   ],
   "source": [
    "v2v3_to_world = direct_gwcs.meta.wcs.get_transform('v2v3','world')\n",
    "v2v3_to_world(144.31111617155733, -550.8134158050235)  # arcseconds"
   ]
  },
  {
   "cell_type": "markdown",
   "metadata": {},
   "source": [
    "### The following transforms only goes through the distortion reference file, it can't seem to return the original detector coordinates"
   ]
  },
  {
   "cell_type": "code",
   "execution_count": 38,
   "metadata": {},
   "outputs": [
    {
     "data": {
      "text/plain": [
       "(144.31111617152274, -550.8134158049928)"
      ]
     },
     "execution_count": 38,
     "metadata": {},
     "output_type": "execute_result"
    }
   ],
   "source": [
    "detector_to_v2v3 = direct_gwcs.meta.wcs.get_transform('detector','v2v3')\n",
    "detector_to_v2v3(110, 110)"
   ]
  },
  {
   "cell_type": "code",
   "execution_count": 39,
   "metadata": {},
   "outputs": [
    {
     "data": {
      "text/plain": [
       "(115.04030042830334, 110.42501278338807)"
      ]
     },
     "execution_count": 39,
     "metadata": {},
     "output_type": "execute_result"
    }
   ],
   "source": [
    "v2v3_to_detector = direct_gwcs.meta.wcs.get_transform('v2v3','detector')\n",
    "v2v3_to_detector(144.31111617152274, -550.8134158049928)"
   ]
  },
  {
   "cell_type": "markdown",
   "metadata": {},
   "source": [
    "### The transform across the distortion image is not able to reproduce values roundtripping\n",
    "Let's check if we can reproduce the anchor point of the distortion, the value at CRPIX1, CRPIX2"
   ]
  },
  {
   "cell_type": "code",
   "execution_count": 40,
   "metadata": {
    "collapsed": true
   },
   "outputs": [],
   "source": [
    "crpix1, crpix2, crval1, crval2=direct_gwcs.meta.wcsinfo.crpix1, direct_gwcs.meta.wcsinfo.crpix2, direct_gwcs.meta.wcsinfo.crval1, direct_gwcs.meta.wcsinfo.crval2"
   ]
  },
  {
   "cell_type": "code",
   "execution_count": 41,
   "metadata": {},
   "outputs": [
    {
     "data": {
      "text/plain": [
       "(53.1490299775, -27.8168745624, 45.04234416817661)"
      ]
     },
     "execution_count": 41,
     "metadata": {},
     "output_type": "execute_result"
    }
   ],
   "source": [
    "crval1,crval2, direct_gwcs.meta.wcsinfo.roll_ref"
   ]
  },
  {
   "cell_type": "markdown",
   "metadata": {},
   "source": [
    "#### Check the roundtrip of crpix1,crpix2 from detector <-> v2v3\n",
    "This also uses the distortion reference file"
   ]
  },
  {
   "cell_type": "code",
   "execution_count": 42,
   "metadata": {},
   "outputs": [
    {
     "data": {
      "text/plain": [
       "(1024.5, 1024.5)"
      ]
     },
     "execution_count": 42,
     "metadata": {},
     "output_type": "execute_result"
    }
   ],
   "source": [
    "crpix1, crpix2"
   ]
  },
  {
   "cell_type": "code",
   "execution_count": 43,
   "metadata": {},
   "outputs": [
    {
     "data": {
      "text/plain": [
       "(86.04055467237623, -493.16454761867965)"
      ]
     },
     "execution_count": 43,
     "metadata": {},
     "output_type": "execute_result"
    }
   ],
   "source": [
    "detector_to_v2v3(crpix1, crpix2)"
   ]
  },
  {
   "cell_type": "code",
   "execution_count": 44,
   "metadata": {},
   "outputs": [
    {
     "data": {
      "text/plain": [
       "(1024.49795746852, 1024.5015125533203)"
      ]
     },
     "execution_count": 44,
     "metadata": {},
     "output_type": "execute_result"
    }
   ],
   "source": [
    "v2v3_to_detector(86.04055467237623, -493.16454761867965)"
   ]
  },
  {
   "cell_type": "markdown",
   "metadata": {},
   "source": [
    "#### Check the roundtrip of crval1,crval2 from world <-> v2v3"
   ]
  },
  {
   "cell_type": "code",
   "execution_count": 45,
   "metadata": {},
   "outputs": [
    {
     "data": {
      "text/plain": [
       "(53.1490299775, -27.8168745624)"
      ]
     },
     "execution_count": 45,
     "metadata": {},
     "output_type": "execute_result"
    }
   ],
   "source": [
    "crval1, crval2"
   ]
  },
  {
   "cell_type": "code",
   "execution_count": 46,
   "metadata": {},
   "outputs": [
    {
     "data": {
      "text/plain": [
       "(86.10345800001141, -493.2275120000079)"
      ]
     },
     "execution_count": 46,
     "metadata": {},
     "output_type": "execute_result"
    }
   ],
   "source": [
    "world_to_v2v3(crval1, crval2)"
   ]
  },
  {
   "cell_type": "code",
   "execution_count": 47,
   "metadata": {
    "scrolled": true
   },
   "outputs": [
    {
     "data": {
      "text/plain": [
       "(53.14902997749999, -27.816874562400006)"
      ]
     },
     "execution_count": 47,
     "metadata": {},
     "output_type": "execute_result"
    }
   ],
   "source": [
    "v2v3_to_world(86.10345800001141, -493.2275120000079)"
   ]
  },
  {
   "cell_type": "markdown",
   "metadata": {
    "collapsed": true
   },
   "source": [
    "## Using a different distortion reference file we still are seeing the same offsets with the reverse transform.\n",
    "We can do a little more detective work and chart the roundtrip offsets that are present in all the distortion reference files.\n",
    "First we need to get a local copy of all the distortion reference files in CRDS for the NRC_IMAGE mode.\n",
    "\n",
    "I'm going to do this by asking CRDS. Make sure you have these environment variables set:\n",
    "\n",
    "    CRDS_SERVER_URL=https://jwst-crds.stsci.edu\n",
    "    CRDS_PATH=/Users/sosey/crds_cache  --> wherever you want the files stored locally\n",
    "    \n",
    "    # get all the nircam distortion files currently in use\n",
    "    crds sync --contexts jwst-nircam-distortion-operational --fetch-references\n"
   ]
  },
  {
   "cell_type": "code",
   "execution_count": 48,
   "metadata": {
    "collapsed": true
   },
   "outputs": [],
   "source": [
    "import glob"
   ]
  },
  {
   "cell_type": "code",
   "execution_count": 49,
   "metadata": {},
   "outputs": [],
   "source": [
    "dist_files=glob.glob('/Users/sosey/crds_cache/references/jwst/nircam/*distortion*')"
   ]
  },
  {
   "cell_type": "markdown",
   "metadata": {},
   "source": [
    "### Let's make a WCS object for each of the distortion files that will take us through the transform.\n",
    "We use the most recent image as the starting point and direct the distortion file to use."
   ]
  },
  {
   "cell_type": "code",
   "execution_count": 50,
   "metadata": {
    "collapsed": true
   },
   "outputs": [],
   "source": [
    "from jwst.assign_wcs import nircam\n",
    "from jwst.datamodels.wcs_ref_models import DistortionModel\n",
    "from gwcs.wcs import WCS"
   ]
  },
  {
   "cell_type": "markdown",
   "metadata": {},
   "source": [
    "### Next we'll cut the list down to just the distortion files used with imageing mode"
   ]
  },
  {
   "cell_type": "code",
   "execution_count": 51,
   "metadata": {},
   "outputs": [
    {
     "name": "stdout",
     "output_type": "stream",
     "text": [
      "/Users/sosey/crds_cache/references/jwst/nircam/jwst_nircam_distortion_0001.asdf\n",
      "/Users/sosey/crds_cache/references/jwst/nircam/jwst_nircam_distortion_0002.asdf\n",
      "/Users/sosey/crds_cache/references/jwst/nircam/jwst_nircam_distortion_0003.asdf\n",
      "/Users/sosey/crds_cache/references/jwst/nircam/jwst_nircam_distortion_0004.asdf\n",
      "/Users/sosey/crds_cache/references/jwst/nircam/jwst_nircam_distortion_0005.asdf\n",
      "/Users/sosey/crds_cache/references/jwst/nircam/jwst_nircam_distortion_0006.asdf\n",
      "/Users/sosey/crds_cache/references/jwst/nircam/jwst_nircam_distortion_0007.asdf\n",
      "/Users/sosey/crds_cache/references/jwst/nircam/jwst_nircam_distortion_0008.asdf\n",
      "/Users/sosey/crds_cache/references/jwst/nircam/jwst_nircam_distortion_0009.asdf\n",
      "/Users/sosey/crds_cache/references/jwst/nircam/jwst_nircam_distortion_0010.asdf\n",
      "/Users/sosey/crds_cache/references/jwst/nircam/jwst_nircam_distortion_0011.asdf\n",
      "/Users/sosey/crds_cache/references/jwst/nircam/jwst_nircam_distortion_0012.asdf\n",
      "/Users/sosey/crds_cache/references/jwst/nircam/jwst_nircam_distortion_0013.asdf\n",
      "/Users/sosey/crds_cache/references/jwst/nircam/jwst_nircam_distortion_0014.asdf\n",
      "/Users/sosey/crds_cache/references/jwst/nircam/jwst_nircam_distortion_0015.asdf\n",
      "/Users/sosey/crds_cache/references/jwst/nircam/jwst_nircam_distortion_0016.asdf\n",
      "/Users/sosey/crds_cache/references/jwst/nircam/jwst_nircam_distortion_0017.asdf\n",
      "/Users/sosey/crds_cache/references/jwst/nircam/jwst_nircam_distortion_0018.asdf\n",
      "/Users/sosey/crds_cache/references/jwst/nircam/jwst_nircam_distortion_0019.asdf\n",
      "/Users/sosey/crds_cache/references/jwst/nircam/jwst_nircam_distortion_0020.asdf\n",
      "/Users/sosey/crds_cache/references/jwst/nircam/jwst_nircam_distortion_0021.asdf\n",
      "/Users/sosey/crds_cache/references/jwst/nircam/jwst_nircam_distortion_0022.asdf\n",
      "/Users/sosey/crds_cache/references/jwst/nircam/jwst_nircam_distortion_0023.asdf\n",
      "/Users/sosey/crds_cache/references/jwst/nircam/jwst_nircam_distortion_0024.asdf\n",
      "/Users/sosey/crds_cache/references/jwst/nircam/jwst_nircam_distortion_0025.asdf\n",
      "/Users/sosey/crds_cache/references/jwst/nircam/jwst_nircam_distortion_0026.asdf\n",
      "/Users/sosey/crds_cache/references/jwst/nircam/jwst_nircam_distortion_0027.asdf\n",
      "/Users/sosey/crds_cache/references/jwst/nircam/jwst_nircam_distortion_0028.asdf\n",
      "/Users/sosey/crds_cache/references/jwst/nircam/jwst_nircam_distortion_0029.asdf\n",
      "/Users/sosey/crds_cache/references/jwst/nircam/jwst_nircam_distortion_0030.asdf\n",
      "/Users/sosey/crds_cache/references/jwst/nircam/jwst_nircam_distortion_0037.asdf\n",
      "/Users/sosey/crds_cache/references/jwst/nircam/jwst_nircam_distortion_0038.asdf\n",
      "/Users/sosey/crds_cache/references/jwst/nircam/jwst_nircam_distortion_0039.asdf\n",
      "/Users/sosey/crds_cache/references/jwst/nircam/jwst_nircam_distortion_0043.asdf\n",
      "/Users/sosey/crds_cache/references/jwst/nircam/jwst_nircam_distortion_0057.asdf\n",
      "/Users/sosey/crds_cache/references/jwst/nircam/jwst_nircam_distortion_0058.asdf\n",
      "/Users/sosey/crds_cache/references/jwst/nircam/jwst_nircam_distortion_0059.asdf\n",
      "/Users/sosey/crds_cache/references/jwst/nircam/jwst_nircam_distortion_0060.asdf\n",
      "/Users/sosey/crds_cache/references/jwst/nircam/jwst_nircam_distortion_0061.asdf\n",
      "/Users/sosey/crds_cache/references/jwst/nircam/jwst_nircam_distortion_0062.asdf\n",
      "/Users/sosey/crds_cache/references/jwst/nircam/jwst_nircam_distortion_0063.asdf\n",
      "/Users/sosey/crds_cache/references/jwst/nircam/jwst_nircam_distortion_0064.asdf\n",
      "/Users/sosey/crds_cache/references/jwst/nircam/jwst_nircam_distortion_0065.asdf\n",
      "/Users/sosey/crds_cache/references/jwst/nircam/jwst_nircam_distortion_0066.asdf\n"
     ]
    }
   ],
   "source": [
    "image_dist=[]\n",
    "for dist in dist_files:\n",
    "    print(dist)\n",
    "    data=DistortionModel(dist)\n",
    "    try:\n",
    "        if (data['exp_type'] == 'NRC_IMAGE'):\n",
    "            image_dist.append(dist)\n",
    "    except KeyError:\n",
    "        try:\n",
    "            if (data['EXP_TYPE'] == 'NRC_IMAGE'):\n",
    "                image_dist.append(dist)\n",
    "        except KeyError:\n",
    "            if \"NRC_IMAGE\" in data.meta.exposure.p_exptype:\n",
    "                image_dist.append(dist)\n",
    "    data.close()"
   ]
  },
  {
   "cell_type": "code",
   "execution_count": 52,
   "metadata": {},
   "outputs": [
    {
     "data": {
      "text/plain": [
       "('CLEAR', 'F444W', 'A', 'NRCALONG', 'LONG')"
      ]
     },
     "execution_count": 52,
     "metadata": {},
     "output_type": "execute_result"
    }
   ],
   "source": [
    "direct_data='V54321001002P000000000110d_A5_F444W_rate.fits'   # latest simulated image for testing\n",
    "\n",
    "# We will open the direct image as a DrizProduct datamodel\n",
    "direct_image = image.ImageModel(direct_data)\n",
    "direct_image.meta.instrument.pupil, direct_image.meta.instrument.filter,direct_image.meta.instrument.module, direct_image.meta.instrument.detector, direct_image.meta.instrument.channel"
   ]
  },
  {
   "cell_type": "code",
   "execution_count": 53,
   "metadata": {},
   "outputs": [
    {
     "name": "stderr",
     "output_type": "stream",
     "text": [
      "2018-04-26 17:39:40,195 - stpipe.AssignWcsStep - INFO - AssignWcsStep instance created.\n"
     ]
    },
    {
     "data": {
      "text/plain": [
       "{'camera': 'N/A',\n",
       " 'collimator': 'N/A',\n",
       " 'disperser': 'N/A',\n",
       " 'distortion': '/Users/sosey/crds_cache/references/jwst/nircam/jwst_nircam_distortion_0059.asdf',\n",
       " 'filteroffset': 'N/A',\n",
       " 'fore': 'N/A',\n",
       " 'fpa': 'N/A',\n",
       " 'ifufore': 'N/A',\n",
       " 'ifupost': 'N/A',\n",
       " 'ifuslicer': 'N/A',\n",
       " 'msa': 'N/A',\n",
       " 'ote': 'N/A',\n",
       " 'regions': 'N/A',\n",
       " 'specwcs': 'N/A',\n",
       " 'wavelengthrange': 'N/A'}"
      ]
     },
     "execution_count": 53,
     "metadata": {},
     "output_type": "execute_result"
    }
   ],
   "source": [
    "# Load up the assign_wcs step to populate our structure, we should see only the distortion file being used\n",
    "assign_wcs_step=assign_wcs.AssignWcsStep()\n",
    "reference_file_types = ['distortion', 'filteroffset', 'specwcs', 'regions',\n",
    "                            'wavelengthrange', 'camera', 'collimator',\n",
    "                            'disperser', 'fore', 'fpa', 'msa', 'ote', 'ifupost',\n",
    "                            'ifufore', 'ifuslicer']\n",
    "reference_file_names = {}\n",
    "\n",
    "# Ask CRDS for the reference files that apply to the image are working with\n",
    "for name in reference_file_types:\n",
    "    reffile = assign_wcs_step.get_reference_file(direct_image, name)\n",
    "    reference_file_names[name] = reffile if reffile else \"\"\n",
    "reference_file_names"
   ]
  },
  {
   "cell_type": "markdown",
   "metadata": {},
   "source": [
    "### I'm going to call a part of the pipeline that already assumes the correct file has been matched by CRDS, so I should just need to give it the reference file to use and it will return the pipeline that includes that file"
   ]
  },
  {
   "cell_type": "code",
   "execution_count": 54,
   "metadata": {
    "collapsed": true
   },
   "outputs": [],
   "source": [
    "results=[]\n",
    "for dist in image_dist:\n",
    "    reference_file_names['distortion'] = dist\n",
    "    pipeline = nircam.imaging(direct_image, reference_file_names)\n",
    "    test_wcs = WCS(pipeline)\n",
    "    ra,dec = test_wcs(110,110)\n",
    "    try:\n",
    "        w2d = test_wcs.get_transform('world','detector')\n",
    "        x,y = w2d(ra,dec)\n",
    "        results.append({'dfile':dist, 'ra':ra, 'dec':dec, 'x':x, 'y':y, 'start_x': 110, 'start_y': 110})\n",
    "    except NotImplementedError:\n",
    "        pass\n",
    "    \n",
    "    "
   ]
  },
  {
   "cell_type": "code",
   "execution_count": 55,
   "metadata": {},
   "outputs": [
    {
     "name": "stdout",
     "output_type": "stream",
     "text": [
      "                                                                           FILE   START_X   START_Y           RETURNED X           RETURNED Y              DELTA X              DELTA Y\n",
      "/Users/sosey/crds_cache/references/jwst/nircam/jwst_nircam_distortion_0004.asdf       110       110  -32211.563169272278   -4414611.484215153   32321.563169272278    4414721.484215153\n",
      "/Users/sosey/crds_cache/references/jwst/nircam/jwst_nircam_distortion_0011.asdf       110       110   110.50304890545871   109.23927236754712  -0.5030489054587122    0.760727632452884\n",
      "/Users/sosey/crds_cache/references/jwst/nircam/jwst_nircam_distortion_0012.asdf       110       110   110.34137150293236   109.62428757378888  -0.3413715029323612  0.37571242621112333\n",
      "/Users/sosey/crds_cache/references/jwst/nircam/jwst_nircam_distortion_0013.asdf       110       110   109.94816366972968    110.0303481756208  0.05183633027031931  -0.0303481756208015\n",
      "/Users/sosey/crds_cache/references/jwst/nircam/jwst_nircam_distortion_0014.asdf       110       110   109.38545945771133   110.39814309057316   0.6145405422886654  -0.3981430905731571\n",
      "/Users/sosey/crds_cache/references/jwst/nircam/jwst_nircam_distortion_0015.asdf       110       110   111.39314748078246   108.39352521887382    -1.39314748078246    1.606474781126181\n",
      "/Users/sosey/crds_cache/references/jwst/nircam/jwst_nircam_distortion_0016.asdf       110       110   109.04545366399353   110.95276267214285    0.954546336006473  -0.9527626721428533\n",
      "/Users/sosey/crds_cache/references/jwst/nircam/jwst_nircam_distortion_0017.asdf       110       110   109.78800711440576   110.17214872743332   0.2119928855942419  -0.1721487274333242\n",
      "/Users/sosey/crds_cache/references/jwst/nircam/jwst_nircam_distortion_0018.asdf       110       110   109.31110484408768   110.66720056352229     0.68889515591232   -0.667200563522286\n",
      "/Users/sosey/crds_cache/references/jwst/nircam/jwst_nircam_distortion_0019.asdf       110       110   108.39675567690172   110.89650896323514   1.6032443230982807  -0.8965089632351351\n",
      "/Users/sosey/crds_cache/references/jwst/nircam/jwst_nircam_distortion_0020.asdf       110       110     110.098379123054   109.87763607881155  -0.0983791230540021  0.12236392118845174\n",
      "/Users/sosey/crds_cache/references/jwst/nircam/jwst_nircam_distortion_0021.asdf       110       110   110.50304890499478   109.23927236807431  -0.5030489049947846   0.7607276319256897\n",
      "/Users/sosey/crds_cache/references/jwst/nircam/jwst_nircam_distortion_0022.asdf       110       110   110.34137150335498   109.62428757388814  -0.3413715033549778   0.3757124261118605\n",
      "/Users/sosey/crds_cache/references/jwst/nircam/jwst_nircam_distortion_0023.asdf       110       110   109.94816367007354   110.03034817505613  0.05183632992645926  -0.030348175056133186\n",
      "/Users/sosey/crds_cache/references/jwst/nircam/jwst_nircam_distortion_0024.asdf       110       110   109.38545945727077   110.39814309012611   0.6145405427292303  -0.39814309012611204\n",
      "/Users/sosey/crds_cache/references/jwst/nircam/jwst_nircam_distortion_0025.asdf       110       110   111.39314748156202   108.39352521900166  -1.3931474815620248   1.6064747809983402\n",
      "/Users/sosey/crds_cache/references/jwst/nircam/jwst_nircam_distortion_0026.asdf       110       110   109.04545366372139   110.95276267276301   0.9545463362786109   -0.952762672763015\n",
      "/Users/sosey/crds_cache/references/jwst/nircam/jwst_nircam_distortion_0027.asdf       110       110   109.78800711484327   110.17214872745653   0.2119928851567323  -0.17214872745653054\n",
      "/Users/sosey/crds_cache/references/jwst/nircam/jwst_nircam_distortion_0028.asdf       110       110   109.31110484440914    110.6672005624399   0.6888951555908562   -0.667200562439902\n",
      "/Users/sosey/crds_cache/references/jwst/nircam/jwst_nircam_distortion_0029.asdf       110       110   108.39675567555064    110.8965089631495   1.6032443244493635  -0.8965089631495005\n",
      "/Users/sosey/crds_cache/references/jwst/nircam/jwst_nircam_distortion_0030.asdf       110       110   110.09837912296992   109.87763607870494  -0.09837912296991647  0.12236392129506157\n",
      "/Users/sosey/crds_cache/references/jwst/nircam/jwst_nircam_distortion_0057.asdf       110       110    115.7060195864882   104.59142474479745   -5.706019586488196     5.40857525520255\n",
      "/Users/sosey/crds_cache/references/jwst/nircam/jwst_nircam_distortion_0058.asdf       110       110   107.81672101399101   113.67340689113007    2.183278986008986   -3.673406891130071\n",
      "/Users/sosey/crds_cache/references/jwst/nircam/jwst_nircam_distortion_0059.asdf       110       110   115.04030042777447    110.4250127829049  -5.0403004277744685  -0.42501278290490063\n",
      "/Users/sosey/crds_cache/references/jwst/nircam/jwst_nircam_distortion_0060.asdf       110       110   117.14543043632614   107.25115815627896   -7.145430436326137   2.7488418437210385\n",
      "/Users/sosey/crds_cache/references/jwst/nircam/jwst_nircam_distortion_0061.asdf       110       110   127.67113370076697   104.93657235314652  -17.671133700766973    5.063427646853484\n",
      "/Users/sosey/crds_cache/references/jwst/nircam/jwst_nircam_distortion_0062.asdf       110       110    97.61343207141408   123.37917388253788   12.386567928585919  -13.379173882537884\n",
      "/Users/sosey/crds_cache/references/jwst/nircam/jwst_nircam_distortion_0063.asdf       110       110    110.2215771535989   109.87151638926684  -0.22157715359890062  0.12848361073315573\n",
      "/Users/sosey/crds_cache/references/jwst/nircam/jwst_nircam_distortion_0064.asdf       110       110   117.91190750112469   102.11505730485305   -7.911907501124688    7.884942695146947\n",
      "/Users/sosey/crds_cache/references/jwst/nircam/jwst_nircam_distortion_0065.asdf       110       110   104.89192400136733   116.05870816595791    5.108075998632671    -6.05870816595791\n",
      "/Users/sosey/crds_cache/references/jwst/nircam/jwst_nircam_distortion_0066.asdf       110       110   109.20281049225446   110.92871603920503   0.7971895077455429  -0.9287160392050282\n"
     ]
    }
   ],
   "source": [
    "line = '{:>79}  {:>8}  {:>8}  {:>19}  {:>19}  {:>19}  {:>19}'.format(\"FILE\", \"START_X\", \"START_Y\",\"RETURNED X\", \"RETURNED Y\", \"DELTA X\", \"DELTA Y\")\n",
    "print(line)\n",
    "for res in results:\n",
    "    print(\"{:>79}  {:>8}  {:>8}  {:>19}  {:>19}  {:>19}  {:>19}\".format(res['dfile'], res['start_x'], res['start_y'],res['x'], res['y'], res['start_x'] - res['x'], res['start_y']-res['y']))\n",
    "    "
   ]
  },
  {
   "cell_type": "markdown",
   "metadata": {},
   "source": [
    "NOTE: according to the RMAP, distortion files numbered prior to `*0011.asf` are old and replaced by the useafter date with updated files, so the results for `jwst_nircam_distortion_0004.asdf` above can be ignored"
   ]
  },
  {
   "cell_type": "markdown",
   "metadata": {},
   "source": [
    "## We can do the same number crunching just using the the model inside the distortion reference file itself, and we should get the same answer as with the GWCS model"
   ]
  },
  {
   "cell_type": "code",
   "execution_count": 56,
   "metadata": {},
   "outputs": [],
   "source": [
    "results=[]\n",
    "for dist in image_dist:\n",
    "    model = DistortionModel(dist).model\n",
    "    try:\n",
    "        v2v3x, v2v3y = model(110, 110)\n",
    "        x, y = model.inverse(v2v3x, v2v3y)\n",
    "        results.append({'dfile':dist, 'v2v3x':v2v3x, 'v2v3y':v2v3y, 'x':x, 'y':y, 'start_x': 110, 'start_y': 110})\n",
    "    except NotImplementedError:\n",
    "        pass"
   ]
  },
  {
   "cell_type": "code",
   "execution_count": 57,
   "metadata": {},
   "outputs": [
    {
     "name": "stdout",
     "output_type": "stream",
     "text": [
      "                                                                           FILE   START_X   START_Y           RETURNED X           RETURNED Y              DELTA X              DELTA Y\n",
      "/Users/sosey/crds_cache/references/jwst/nircam/jwst_nircam_distortion_0004.asdf       110       110   -32211.56316247882   -4414611.483280538    32321.56316247882    4414721.483280538\n",
      "/Users/sosey/crds_cache/references/jwst/nircam/jwst_nircam_distortion_0011.asdf       110       110   110.50304890570733   109.23927236783844  -0.5030489057073311   0.7607276321615615\n",
      "/Users/sosey/crds_cache/references/jwst/nircam/jwst_nircam_distortion_0012.asdf       110       110   110.34137150365541   109.62428757533306  -0.34137150365540947  0.37571242466694343\n",
      "/Users/sosey/crds_cache/references/jwst/nircam/jwst_nircam_distortion_0013.asdf       110       110    109.9481636701729   110.03034817585473  0.05183632982709696  -0.030348175854726378\n",
      "/Users/sosey/crds_cache/references/jwst/nircam/jwst_nircam_distortion_0014.asdf       110       110   109.38545945780922   110.39814309137432    0.614540542190781  -0.39814309137432247\n",
      "/Users/sosey/crds_cache/references/jwst/nircam/jwst_nircam_distortion_0015.asdf       110       110   111.39314748246379   108.39352521951902  -1.3931474824637888   1.6064747804809798\n",
      "/Users/sosey/crds_cache/references/jwst/nircam/jwst_nircam_distortion_0016.asdf       110       110   109.04545366404597   110.95276267427047   0.9545463359540349   -0.952762674270474\n",
      "/Users/sosey/crds_cache/references/jwst/nircam/jwst_nircam_distortion_0017.asdf       110       110   109.78800711493207   110.17214872795837  0.21199288506792868  -0.17214872795837266\n",
      "/Users/sosey/crds_cache/references/jwst/nircam/jwst_nircam_distortion_0018.asdf       110       110    109.3111048445423   110.66720056420137   0.6888951554577005  -0.6672005642013659\n",
      "/Users/sosey/crds_cache/references/jwst/nircam/jwst_nircam_distortion_0019.asdf       110       110   108.39675567667469   110.89650896331993   1.6032443233253133  -0.8965089633199312\n",
      "/Users/sosey/crds_cache/references/jwst/nircam/jwst_nircam_distortion_0020.asdf       110       110   110.09837912350001   109.87763607948385  -0.09837912350000977  0.12236392051615042\n",
      "/Users/sosey/crds_cache/references/jwst/nircam/jwst_nircam_distortion_0021.asdf       110       110   110.50304890570732   109.23927236783844  -0.5030489057073169   0.7607276321615615\n",
      "/Users/sosey/crds_cache/references/jwst/nircam/jwst_nircam_distortion_0022.asdf       110       110   110.34137150365544   109.62428757533306  -0.3413715036554379  0.37571242466694343\n",
      "/Users/sosey/crds_cache/references/jwst/nircam/jwst_nircam_distortion_0023.asdf       110       110   109.94816367017292   110.03034817585473  0.05183632982708275  -0.030348175854726378\n",
      "/Users/sosey/crds_cache/references/jwst/nircam/jwst_nircam_distortion_0024.asdf       110       110   109.38545945780922   110.39814309137432    0.614540542190781  -0.39814309137432247\n",
      "/Users/sosey/crds_cache/references/jwst/nircam/jwst_nircam_distortion_0025.asdf       110       110   111.39314748246379     108.393525219519  -1.3931474824637888    1.606474780480994\n",
      "/Users/sosey/crds_cache/references/jwst/nircam/jwst_nircam_distortion_0026.asdf       110       110   109.04545366404592   110.95276267427045   0.9545463359540776  -0.9527626742704456\n",
      "/Users/sosey/crds_cache/references/jwst/nircam/jwst_nircam_distortion_0027.asdf       110       110   109.78800711493207   110.17214872795837  0.21199288506792868  -0.17214872795837266\n",
      "/Users/sosey/crds_cache/references/jwst/nircam/jwst_nircam_distortion_0028.asdf       110       110   109.31110484454233   110.66720056420138   0.6888951554576721  -0.6672005642013801\n",
      "/Users/sosey/crds_cache/references/jwst/nircam/jwst_nircam_distortion_0029.asdf       110       110   108.39675567667473   110.89650896331995   1.6032443233252707  -0.8965089633199455\n",
      "/Users/sosey/crds_cache/references/jwst/nircam/jwst_nircam_distortion_0030.asdf       110       110   110.09837912349998   109.87763607948384  -0.09837912349998135  0.12236392051616463\n",
      "/Users/sosey/crds_cache/references/jwst/nircam/jwst_nircam_distortion_0057.asdf       110       110   115.70601958722068   104.59142474523185  -5.7060195872206805    5.408575254768152\n",
      "/Users/sosey/crds_cache/references/jwst/nircam/jwst_nircam_distortion_0058.asdf       110       110   107.81672101478568   113.67340689151149    2.183278985214315  -3.6734068915114904\n",
      "/Users/sosey/crds_cache/references/jwst/nircam/jwst_nircam_distortion_0059.asdf       110       110   115.04030042830334   110.42501278338807    -5.04030042830334  -0.4250127833880697\n",
      "/Users/sosey/crds_cache/references/jwst/nircam/jwst_nircam_distortion_0060.asdf       110       110   117.14543043635081   107.25115815741685   -7.145430436350807    2.748841842583147\n",
      "/Users/sosey/crds_cache/references/jwst/nircam/jwst_nircam_distortion_0061.asdf       110       110   127.67113370114123   104.93657235389549   -17.67113370114123    5.063427646104515\n",
      "/Users/sosey/crds_cache/references/jwst/nircam/jwst_nircam_distortion_0062.asdf       110       110    97.61343207196512   123.37917388278981   12.386567928034879  -13.379173882789814\n",
      "/Users/sosey/crds_cache/references/jwst/nircam/jwst_nircam_distortion_0063.asdf       110       110    110.2215771533123   109.87151638994749  -0.2215771533122961  0.12848361005251263\n",
      "/Users/sosey/crds_cache/references/jwst/nircam/jwst_nircam_distortion_0064.asdf       110       110   117.91190750169733   102.11505730538465   -7.911907501697328    7.884942694615347\n",
      "/Users/sosey/crds_cache/references/jwst/nircam/jwst_nircam_distortion_0065.asdf       110       110   104.89192400174534   116.05870816687195    5.108075998254662   -6.058708166871952\n",
      "/Users/sosey/crds_cache/references/jwst/nircam/jwst_nircam_distortion_0066.asdf       110       110   109.20281049288587   110.92871603909657   0.7971895071141262   -0.928716039096571\n"
     ]
    }
   ],
   "source": [
    "line = '{:>79}  {:>8}  {:>8}  {:>19}  {:>19}  {:>19}  {:>19}'.format(\"FILE\", \"START_X\", \"START_Y\",\"RETURNED X\", \"RETURNED Y\", \"DELTA X\", \"DELTA Y\")\n",
    "print(line)\n",
    "for res in results:\n",
    "    print(\"{:>79}  {:>8}  {:>8}  {:>19}  {:>19}  {:>19}  {:>19}\".format(res['dfile'], res['start_x'], res['start_y'],res['x'], res['y'], res['start_x'] - res['x'], res['start_y']-res['y']))\n"
   ]
  },
  {
   "cell_type": "markdown",
   "metadata": {},
   "source": [
    "## The NIRCAM team used scripts that translate through the SIAF file as part of their data simulator\n",
    "Below, I'll go through the same process and see what happens (communicae via Hilbert):\n",
    "\n",
    "    The SIAF file contains all of the relevant coordinate system definitions and parameters, as well as the polynomial coefficients which describe the translation between the V2,V3 system and pixel space for each NIRCam aperture on each detector. Colin Cox's report from 2009 which defines the terms in the SIAF file and shows how to use the information in the SIAF file to generate functions for translating between coordinate systems. \n",
    "\n",
    "    (Note that the translation functions and definitions are built around pixel coordinates that are indexed to 1. So if you are going to run translations in python, where things are indexed to 0, be sure to add 1 when creating inputs for the translation models, and subtract 1 from the outputs.)\n",
    "\n",
    "    If you are interested in quickly being able to translate between pixel space and RA/Dec or V2/V3, I have already used the data in the SIAF file to construct distortion reference files. These are the reference files that will be used in the DMS pipeline. There's a separate file for each aperture. I've attached the file for full-frame A1 observations as an example. Let me know if you would like others.\n",
    "\n",
    "    I've attached some python code in coord_translate.py that contains everything you need to go from x,y to RA,Dec and back. The script depends on the other attached python scripts.\n",
    "\n",
    "\n",
    "Inside the scripts, there are instructions for translating between x,y <-> ra,dec through the SIAF file\n"
   ]
  },
  {
   "cell_type": "code",
   "execution_count": 58,
   "metadata": {},
   "outputs": [],
   "source": [
    "from asdf import AsdfFile\n",
    "from astropy.io import ascii\n",
    "import numpy as np\n",
    "\n",
    "from SIAFDistortions import rotations\n",
    "from SIAFDistortions import read_siaf_table\n",
    "from SIAFDistortions import polynomial\n"
   ]
  },
  {
   "cell_type": "code",
   "execution_count": 59,
   "metadata": {},
   "outputs": [],
   "source": [
    "distortionTable = ascii.read('SIAFDistortions/NIRCam_SIAF_2016-09-29.csv', header_start=1)"
   ]
  },
  {
   "cell_type": "markdown",
   "metadata": {},
   "source": [
    " ## Method 1, (Ra, Dec)--> (x, y)  just using the distortion reference file\n",
    "    There are two methods for translating from RA,Dec to x,y. The first makes use of only\n",
    "    the distortion reference file (the asdf file). This method is faster (and is\n",
    "    therefore used within the DMS pipeline), but loses accuracy the farther from the\n",
    "    reference location that you get. For full frame observations, errors can approach\n",
    "    ~20 pixels at the corners of the detector (ther reference location is the center\n",
    "    of the detector)."
   ]
  },
  {
   "cell_type": "code",
   "execution_count": 60,
   "metadata": {
    "collapsed": true
   },
   "outputs": [],
   "source": [
    "def RADecToXY_approx(ra,dec,attitude_matrix,coord_transform,refpix_v2,refpix_v3):\n",
    "    #If the full set of distortion coefficients are not provided,\n",
    "    #(i.e. you don't have the SIAF file)\n",
    "    #then we fall back to the coordinate transform provided by the\n",
    "    #distortion reference file. These results are not exact, and\n",
    "    #become less accurate the farther the source is from the center\n",
    "    #of the detector. Results can be incorrect by ~20 pixels in the\n",
    "    #corners of the detector.\n",
    "\n",
    "\n",
    "    #RA,Dec to V2,V3\n",
    "    pixelv2,pixelv3 = rotations.getv2v3(attitude_matrix,ra,dec)\n",
    "    \n",
    "    #V2,V3 to distorted pixels\n",
    "    deltapixelx,deltapixely = coord_transform.inverse(pixelv2-refpix_v2,pixelv3-refpix_v3)\n",
    "\n",
    "    return deltapixelx,deltapixely"
   ]
  },
  {
   "cell_type": "code",
   "execution_count": 61,
   "metadata": {},
   "outputs": [
    {
     "name": "stdout",
     "output_type": "stream",
     "text": [
      "Approx 1024.4999999998824,1024.4999999999436\n"
     ]
    }
   ],
   "source": [
    "#distortion reference file to use\n",
    "dist_reffile = 'SIAFDistortions/NRCA1_FULL_distortion.asdf'\n",
    "\n",
    "#RA and Dec you wish to convert to x,y\n",
    "ra = 53.1490299775  # decimal degrees. RA you wish to convert to x,y\n",
    "dec = -27.8168745624 # decimal degrees. Dec you wish to convert to x,y\n",
    "\n",
    "#telescope pointing information \n",
    "tel_ra = 53.1490299775  # decimal degrees. RA at the reference location on the detector\n",
    "tel_dec = -27.8168745624  # decimal degrees. Dec at the reference location on the detector\n",
    "tel_rot = 45.04234416817661 #telescope rotation, degrees.\n",
    "\n",
    "#in this case, if you don't have the SIAF file, you'll need to get the reference\n",
    "#location v2,v3 coordinates for the desired aperture from some other source.\n",
    "refpix_v2 = 120.6714   # arcsec. reference location is usually center of aperture \n",
    "refpix_v3 = -527.3877  # arcsec. \n",
    "refpix_x = 1024.5 # pixels. reference location x for desired aperture\n",
    "refpix_y = 1024.5 # pixels. reference location y for desired aperture\n",
    "\n",
    "#Read in the CRDS-format distortion reference file\n",
    "with AsdfFile.open(dist_reffile) as dist_file:\n",
    "    coord_transform = dist_file.tree['model']\n",
    "\n",
    "#Create attitude_matrix\n",
    "attitude_matrix = rotations.attitude(refpix_v2,refpix_v3,tel_ra,tel_dec,tel_rot)\n",
    "\n",
    "#Translate\n",
    "dx,dy = RADecToXY_approx(ra,dec,attitude_matrix,coord_transform,refpix_v2,refpix_v3)\n",
    "\n",
    "#Final x,y value\n",
    "pixelx = dx + refpix_x\n",
    "pixely = dy + refpix_y\n",
    "\n",
    "print(\"Approx {},{}\".format(pixelx,pixely))"
   ]
  },
  {
   "cell_type": "markdown",
   "metadata": {},
   "source": [
    "#### I'm going to turn the above into a function that accepts, ra, dec, distortion file so I can compare the differences with the above results"
   ]
  },
  {
   "cell_type": "code",
   "execution_count": 62,
   "metadata": {},
   "outputs": [],
   "source": [
    "def method_1_sky_to_pix(ra=0., dec=0., distortion_file=None):\n",
    "    if distortion_file is None:\n",
    "        distortion_file = 'SIAFDistortions/NRCA1_FULL_distortion.asdf'\n",
    "    with AsdfFile.open(distortion_file) as dist_file:\n",
    "        coord_transform = dist_file.tree['model']\n",
    "                \n",
    "    #telescope pointing information \n",
    "    tel_ra = 53.1490299775  # decimal degrees. RA at the reference location on the detector\n",
    "    tel_dec = -27.8168745624  # decimal degrees. Dec at the reference location on the detector\n",
    "    tel_rot = 45.04234416817661 #telescope rotation, degrees.\n",
    "\n",
    "    #in this case, if you don't have the SIAF file, you'll need to get the reference\n",
    "    #location v2,v3 coordinates for the desired aperture from some other source.\n",
    "    refpix_v2 = 120.6714   # arcsec. reference location is usually center of aperture \n",
    "    refpix_v3 = -527.3877  # arcsec. \n",
    "    refpix_x = 1024.5 # pixels. reference location x for desired aperture\n",
    "    refpix_y = 1024.5 # pixels. reference location y for desired aperture\n",
    "\n",
    "    #Create attitude_matrix\n",
    "    attitude_matrix = rotations.attitude(refpix_v2,refpix_v3,tel_ra,tel_dec,tel_rot)\n",
    "\n",
    "    #Translate\n",
    "    dx,dy = RADecToXY_approx(ra,dec,attitude_matrix,coord_transform,refpix_v2,refpix_v3)\n",
    "\n",
    "    #Final x,y value\n",
    "    pixelx = dx + refpix_x\n",
    "    pixely = dy + refpix_y\n",
    "\n",
    "    return (pixelx,pixely)"
   ]
  },
  {
   "cell_type": "markdown",
   "metadata": {},
   "source": [
    "## Method 2, (Ra, Dec) --> (x, y) using the distortion reference file and the SIAF file\n",
    "    The second method of translating from RA,Dec to pixel x,y uses extra information in\n",
    "    the SIAF file that is not present in the distortion coefficient file. It is\n",
    "    computationally slower than the other method, but has minimal errors."
   ]
  },
  {
   "cell_type": "code",
   "execution_count": 63,
   "metadata": {
    "collapsed": true
   },
   "outputs": [],
   "source": [
    "def getDistortionCoefficients(table,from_sys,to_sys,aperture):\n",
    "    '''from the table of distortion coefficients, get the coeffs that \n",
    "    correspond to the requested transformation and return as a list \n",
    "    for x and another for y\n",
    "    '''\n",
    "    match = table['AperName'] == aperture\n",
    "    if np.any(match) == False:\n",
    "        print(\"Aperture name {} not found in input CSV file.\".format(aperture))\n",
    "        sys.exit()\n",
    "\n",
    "    row = table[match]\n",
    "\n",
    "    if ((from_sys == 'science') & (to_sys == 'ideal')):\n",
    "        label = 'Sci2Idl'\n",
    "    elif ((from_sys == 'ideal') & (to_sys == 'science')):\n",
    "        label = 'Idl2Sci'\n",
    "    else:\n",
    "        print(\"WARNING: from_sys of {} and to_sys of {} not a valid transformation.\".format(from_sys,to_sys))\n",
    "        sys.exit()\n",
    "        \n",
    "    #get the coefficients, return as list\n",
    "    X_cols = [c for c in row.colnames if label+'X' in c]\n",
    "    Y_cols = [c for c in row.colnames if label+'Y' in c]\n",
    "    x_coeffs = [row[c].data[0] for c in X_cols]\n",
    "    y_coeffs = [row[c].data[0] for c in Y_cols]\n",
    "\n",
    "    #Also get the V2,V3 and x,y values of the reference pixel\n",
    "    v2ref = row['V2Ref'].data[0]\n",
    "    v3ref = row['V3Ref'].data[0]\n",
    "    xref = row['XSciRef'].data[0]\n",
    "    yref = row['YSciRef'].data[0]\n",
    "    \n",
    "    #Get parity and V3 Y angle info as well\n",
    "    parity = row['VIdlParity'].data[0]\n",
    "    yang = row['V3IdlYAngle'].data[0]\n",
    "        \n",
    "    return x_coeffs,y_coeffs,v2ref,v3ref,xref,yref,parity,yang\n"
   ]
  },
  {
   "cell_type": "code",
   "execution_count": 64,
   "metadata": {
    "collapsed": true
   },
   "outputs": [],
   "source": [
    "def RADecToXY_exact(ra,dec,attitude_matrix,v2v32idlx,v2v32idly,v2_ref,v3_ref,x_sci2idl,y_sci2idl): \n",
    "    #RA,Dec to V2,V3\n",
    "    pixelv2,pixelv3 = rotations.getv2v3(attitude_matrix,ra,dec)\n",
    "\n",
    "    #Now V2,V3 to undistorted angular distance from the reference pixel\n",
    "    xidl = v2v32idlx(pixelv2-v2_ref,pixelv3-v3_ref)\n",
    "    yidl = v2v32idly(pixelv2-v2_ref,pixelv3-v3_ref)\n",
    "                                \n",
    "    #Finally, undistorted distances to distorted pixel values\n",
    "    deltapixelx, deltapixely, err, iter = polynomial.invert(x_sci2idl,y_sci2idl,xidl,yidl,5)\n",
    "\n",
    "    return deltapixelx,deltapixely\n"
   ]
  },
  {
   "cell_type": "code",
   "execution_count": 65,
   "metadata": {},
   "outputs": [
    {
     "name": "stdout",
     "output_type": "stream",
     "text": [
      "Exact 1024.4999999998815,1024.4999999999445\n"
     ]
    }
   ],
   "source": [
    "#distortion reference file to use\n",
    "dist_reffile = 'SIAFDistortions/NRCA1_FULL_distortion.asdf'\n",
    "\n",
    "#aperture_name\n",
    "ap_name = 'NRCA1_FULL'\n",
    "\n",
    "#RA and Dec you wish to convert to x,y\n",
    "ra = 53.1490299775  # decimal degrees. RA you wish to convert to x,y\n",
    "dec = -27.8168745624 # decimal degrees. Dec you wish to convert to x,y\n",
    "\n",
    "#telescope pointing information \n",
    "tel_ra = 53.1490299775  # decimal degrees. RA at the reference location on the detector\n",
    "tel_dec = -27.8168745624  # decimal degrees. Dec at the reference location on the detector\n",
    "tel_rot = 45.04234416817661 #telescope rotation, degrees.\n",
    "\n",
    "\n",
    "#read in the SIAF file\n",
    "distortionTable = ascii.read('SIAFDistortions/NIRCam_SIAF_2016-09-29.csv',header_start=1)\n",
    "\n",
    "#get the extra parameters needed from the SIAF file\n",
    "x_sci2idl,y_sci2idl,refpix_v2,refpix_v3,refpix_x,refpix_y,parity,v3yang = getDistortionCoefficients(distortionTable,'science','ideal',ap_name)\n",
    "\n",
    "#generate the fucntion which will translate from V2,V3 to undistorted coordinates\n",
    "v2v32idlx, v2v32idly = read_siaf_table.get_siaf_v2v3_transform('SIAFDistortions/NIRCam_SIAF_2016-09-29.csv',ap_name,to_system='ideal')\n",
    "\n",
    "#Create attitude_matrix\n",
    "attitude_matrix = rotations.attitude(refpix_v2,refpix_v3,tel_ra,tel_dec,tel_rot)\n",
    "\n",
    "#Translate\n",
    "dx,dy = RADecToXY_exact(ra,dec,attitude_matrix,v2v32idlx,v2v32idly,refpix_v2,refpix_v3,x_sci2idl,y_sci2idl)\n",
    "\n",
    "#Final x,y value\n",
    "pixelx = dx + refpix_x\n",
    "pixely = dy + refpix_y\n",
    "\n",
    "print(\"Exact {},{}\".format(pixelx,pixely))"
   ]
  },
  {
   "cell_type": "markdown",
   "metadata": {},
   "source": [
    "### The function below does the example shown above, accepting x, y, distortion_file"
   ]
  },
  {
   "cell_type": "code",
   "execution_count": 66,
   "metadata": {
    "collapsed": true
   },
   "outputs": [],
   "source": [
    "def method_2_sky_to_pix(ra=0., dec=0., distortion_file=None, ap_name=None):\n",
    "    \n",
    "    if distortion_file is None:\n",
    "        distortion_file = 'SIAFDistortions/NRCA1_FULL_distortion.asdf'\n",
    "        ap_name = 'NRCA1_FULL'\n",
    "    with AsdfFile.open(distortion_file) as dist_file:\n",
    "        coord_transform = dist_file.tree['model']\n",
    "                \n",
    "    #aperture_name\n",
    "    if ap_name is None:\n",
    "        raise ValueError(\"Expected ap_name for distortion file\")\n",
    "\n",
    "    #telescope pointing information \n",
    "    tel_ra = 53.1490299775  # decimal degrees. RA at the reference location on the detector\n",
    "    tel_dec = -27.8168745624  # decimal degrees. Dec at the reference location on the detector\n",
    "    tel_rot = 45.04234416817661 #telescope rotation, degrees.\n",
    "\n",
    "\n",
    "    #read in the SIAF file\n",
    "    distortionTable = ascii.read('SIAFDistortions/NIRCam_SIAF_2016-09-29.csv',header_start=1)\n",
    "\n",
    "    #get the extra parameters needed from the SIAF file\n",
    "    x_sci2idl,y_sci2idl,refpix_v2,refpix_v3,refpix_x,refpix_y,parity,v3yang = getDistortionCoefficients(distortionTable,'science','ideal',ap_name)\n",
    "\n",
    "    #generate the fucntion which will translate from V2,V3 to undistorted coordinates\n",
    "    v2v32idlx, v2v32idly = read_siaf_table.get_siaf_v2v3_transform('SIAFDistortions/NIRCam_SIAF_2016-09-29.csv',ap_name,to_system='ideal')\n",
    "\n",
    "    #Create attitude_matrix\n",
    "    attitude_matrix = rotations.attitude(refpix_v2,refpix_v3,tel_ra,tel_dec,tel_rot)\n",
    "\n",
    "    #Translate\n",
    "    dx,dy = RADecToXY_exact(ra,dec,attitude_matrix,v2v32idlx,v2v32idly,refpix_v2,refpix_v3,x_sci2idl,y_sci2idl)\n",
    "\n",
    "    #Final x,y value\n",
    "    pixelx = dx + refpix_x\n",
    "    pixely = dy + refpix_y\n",
    "\n",
    "    return (pixelx,pixely)"
   ]
  },
  {
   "cell_type": "markdown",
   "metadata": {},
   "source": [
    "## Method, (x, y) --> (Ra, Dec)\n",
    "    Translating from x,y to RA,Dec is simpler, with only one method, which\n",
    "    gives exact answers\n"
   ]
  },
  {
   "cell_type": "code",
   "execution_count": 67,
   "metadata": {
    "collapsed": true
   },
   "outputs": [],
   "source": [
    "def XYToRADec(pixelx,pixely,attitude_matrix,coord_transform,refpix_x,refpix_y,refpix_v2,refpix_v3):\n",
    "    #Translate a given x,y location on the detector\n",
    "    #to RA,Dec\n",
    "\n",
    "    #Transform distorted pixels to V2,V3\n",
    "    deltav2,deltav3 = coord_transform(pixelx-refpix_x,pixely-refpix_y)\n",
    "    pixelv2 = deltav2 + refpix_v2\n",
    "    pixelv3 = deltav3 + refpix_v3\n",
    "\n",
    "    #Now translate V2,V3 to RA,Dec\n",
    "    ra,dec = rotations.pointing(attitude_matrix,pixelv2,pixelv3)\n",
    "\n",
    "    return ra,dec"
   ]
  },
  {
   "cell_type": "code",
   "execution_count": 68,
   "metadata": {},
   "outputs": [
    {
     "name": "stdout",
     "output_type": "stream",
     "text": [
      "RA,Dec is 53.14902997749999,-27.8168745624\n"
     ]
    }
   ],
   "source": [
    "#pixel coords to translate\n",
    "pixelx = 1024.5 \n",
    "pixely = 1024.5\n",
    "\n",
    "#telescope pointing information \n",
    "tel_ra = 53.1490299775  # decimal degrees. RA at the reference location on the detector\n",
    "tel_dec = -27.8168745624  # decimal degrees. Dec at the reference location on the detector\n",
    "tel_rot = 45.04234416817661 #telescope rotation, degrees.\n",
    "\n",
    "#distortion reference file to use\n",
    "dist_reffile = 'SIAFDistortions/NRCA1_FULL_distortion.asdf'\n",
    "ap_name = 'NRCA1_FULL'\n",
    "\n",
    "#Read in the CRDS-format distortion reference file\n",
    "with AsdfFile.open(dist_reffile) as dist_file:\n",
    "    coord_transform = dist_file.tree['model']\n",
    "\n",
    "#read in the SIAF file\n",
    "distortionTable = ascii.read('SIAFDistortions/NIRCam_SIAF_2016-09-29.csv',header_start=1)\n",
    "\n",
    "#get parameters needed from the SIAF file\n",
    "x_sci2idl,y_sci2idl,refpix_v2,refpix_v3,refpix_x,refpix_y,parity,v3yang = getDistortionCoefficients(distortionTable,'science','ideal',ap_name)\n",
    "\n",
    "#Create attitude_matrix\n",
    "attitude_matrix = rotations.attitude(refpix_v2,refpix_v3,tel_ra,tel_dec,tel_rot)\n",
    "\n",
    "#Translate\n",
    "ra,dec = XYToRADec(pixelx,pixely,attitude_matrix,coord_transform,refpix_x,refpix_y,refpix_v2,refpix_v3)\n",
    "\n",
    "print('RA,Dec is {},{}'.format(ra,dec))"
   ]
  },
  {
   "cell_type": "code",
   "execution_count": 69,
   "metadata": {
    "collapsed": true
   },
   "outputs": [],
   "source": [
    "def pix_to_sky(x=0, y=0, distortion_file=None, ap_name=None):\n",
    "    #telescope pointing information \n",
    "    tel_ra = 53.1490299775  # decimal degrees. RA at the reference location on the detector\n",
    "    tel_dec = -27.8168745624  # decimal degrees. Dec at the reference location on the detector\n",
    "    tel_rot = 45.04234416817661 #telescope rotation, degrees.\n",
    "\n",
    "    #distortion reference file to use\n",
    "    if distortion_file is None:\n",
    "        distortion_file = 'SIAFDistortions/NRCA1_FULL_distortion.asdf'\n",
    "        ap_name = 'NRCA1_FULL'\n",
    "    if ap_name is None:\n",
    "        raise ValueError(\"Need to specify ap_name appropriate for the distortion file\")\n",
    "\n",
    "    #Read in the CRDS-format distortion reference file\n",
    "    with AsdfFile.open(distortion_file) as dist_file:\n",
    "        coord_transform = dist_file.tree['model']\n",
    "\n",
    "    #read in the SIAF file\n",
    "    distortionTable = ascii.read('SIAFDistortions/NIRCam_SIAF_2016-09-29.csv',header_start=1)\n",
    "\n",
    "    #get parameters needed from the SIAF file\n",
    "    x_sci2idl,y_sci2idl,refpix_v2,refpix_v3,refpix_x,refpix_y,parity,v3yang = getDistortionCoefficients(distortionTable,'science','ideal',ap_name)\n",
    "\n",
    "    #Create attitude_matrix\n",
    "    attitude_matrix = rotations.attitude(refpix_v2,refpix_v3,tel_ra,tel_dec,tel_rot)\n",
    "\n",
    "    #Translate\n",
    "    ra,dec = XYToRADec(x, y, attitude_matrix,coord_transform,refpix_x,refpix_y,refpix_v2,refpix_v3)\n",
    "\n",
    "    return (ra,dec)"
   ]
  },
  {
   "cell_type": "markdown",
   "metadata": {},
   "source": [
    "### The examples above were pulled from `coord_translate.py` and the telescope pointing information was taken from `V54321001002P000000000110d_A5_F444W_rate.fits` (used in the examples above)\n",
    "\n",
    "Now let's look at the (110,110) pixel that is far away from where the distortion is defined at crpix1, crpix2"
   ]
  },
  {
   "cell_type": "code",
   "execution_count": 70,
   "metadata": {},
   "outputs": [
    {
     "data": {
      "text/plain": [
       "(53.14913643912856, -27.82816131217591)"
      ]
     },
     "execution_count": 70,
     "metadata": {},
     "output_type": "execute_result"
    }
   ],
   "source": [
    "ra, dec = pix_to_sky(110, 110)\n",
    "ra, dec"
   ]
  },
  {
   "cell_type": "markdown",
   "metadata": {},
   "source": [
    "#### We'll take that calculated ra,dec and feed it back to find the original pixel using the two methods outlined above"
   ]
  },
  {
   "cell_type": "code",
   "execution_count": 71,
   "metadata": {},
   "outputs": [
    {
     "data": {
      "text/plain": [
       "(127.69542922126163, 104.93361810196495)"
      ]
     },
     "execution_count": 71,
     "metadata": {},
     "output_type": "execute_result"
    }
   ],
   "source": [
    "method_1_sky_to_pix(ra, dec)"
   ]
  },
  {
   "cell_type": "code",
   "execution_count": 72,
   "metadata": {},
   "outputs": [
    {
     "data": {
      "text/plain": [
       "(110.00000000070884, 109.99999999783699)"
      ]
     },
     "execution_count": 72,
     "metadata": {},
     "output_type": "execute_result"
    }
   ],
   "source": [
    "method_2_sky_to_pix(ra, dec)"
   ]
  },
  {
   "cell_type": "markdown",
   "metadata": {},
   "source": [
    "*Note that the reference files mention an updated SIAF file I don't have access to: NIRCam_SIAF_2017-03-28.csv*"
   ]
  },
  {
   "cell_type": "markdown",
   "metadata": {},
   "source": [
    "## method_2 returns much closer values than method_1 and the distortion reference file alone, as expected by the team. We should figure out how to add the extra calculations to the distortion reference file so that we can get proper translations for use in the WFSS and Resample pipelines"
   ]
  },
  {
   "cell_type": "code",
   "execution_count": null,
   "metadata": {
    "collapsed": true
   },
   "outputs": [],
   "source": []
  },
  {
   "cell_type": "code",
   "execution_count": null,
   "metadata": {
    "collapsed": true
   },
   "outputs": [],
   "source": []
  }
 ],
 "metadata": {
  "kernelspec": {
   "display_name": "Python 3",
   "language": "python",
   "name": "python3"
  },
  "language_info": {
   "codemirror_mode": {
    "name": "ipython",
    "version": 3
   },
   "file_extension": ".py",
   "mimetype": "text/x-python",
   "name": "python",
   "nbconvert_exporter": "python",
   "pygments_lexer": "ipython3",
   "version": "3.5.4"
  }
 },
 "nbformat": 4,
 "nbformat_minor": 2
}
